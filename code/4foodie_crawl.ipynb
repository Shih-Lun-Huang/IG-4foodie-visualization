{
 "cells": [
  {
   "cell_type": "code",
   "execution_count": 1,
   "metadata": {},
   "outputs": [],
   "source": [
    "import pandas as pd\n",
    "import numpy as np\n",
    "import json\n",
    "from selenium import webdriver\n",
    "from selenium.webdriver.support.wait import WebDriverWait\n",
    "from selenium.webdriver.support import expected_conditions as EC\n",
    "from selenium.webdriver.common.action_chains import ActionChains\n",
    "from selenium.webdriver.common.by import By\n",
    "import time\n",
    "import re"
   ]
  },
  {
   "cell_type": "code",
   "execution_count": 3,
   "metadata": {},
   "outputs": [],
   "source": [
    "#不顯示圖片\n",
    "# chrome_options = webdriver.ChromeOptions()\n",
    "# prefs = {\"profile.managed_default_content_settings.images\": 2}\n",
    "# chrome_options.add_experimental_option(\"prefs\", prefs)\n",
    "\n",
    "#windows\n",
    "# driver = webdriver.Chrome('./../chromedriver_win32 (7)/chromedriver.exe',chrome_options=chrome_options)\n",
    "driver = webdriver.Chrome('./../chromedriver_win32 (7)/chromedriver.exe')\n",
    "#mac\n",
    "# driver = webdriver.Chrome('./../chromedriver 4',chrome_options=chrome_options)"
   ]
  },
  {
   "cell_type": "code",
   "execution_count": 4,
   "metadata": {},
   "outputs": [],
   "source": [
    "driver.get('https://google.com')\n",
    "time.sleep(2)\n",
    "with open('cookie.json', 'r', encoding='utf-8') as f: #ig帳號cookie\n",
    "    cookie_dict = json.load(f)\n",
    "    for c in cookie_dict:\n",
    "        del c['httpOnly']\n",
    "        del c['secure']\n",
    "    for c in cookie_dict:\n",
    "        driver.add_cookie(c)\n",
    "driver.get('https://instagram.com')\n",
    "# update cookies\n",
    "with open('cookie.json', 'w', encoding='utf-8') as f:\n",
    "    json.dump(driver.get_cookies(), f)"
   ]
  },
  {
   "cell_type": "code",
   "execution_count": 10,
   "metadata": {},
   "outputs": [],
   "source": [
    "#每則貼文\n",
    "def crawl_post_info(scroll_times):\n",
    "    time.sleep(2)\n",
    "    post_len = [0,0]\n",
    "\n",
    "    ele_arr = dict()\n",
    "    ele_arr['lc_ele'] = []\n",
    "    ele_arr['url_ele'] = []\n",
    "\n",
    "    result = dict()\n",
    "    result['l_c'] = []\n",
    "    result['url'] = []\n",
    "\n",
    "    #get post like & comments\n",
    "    post_ele = driver.find_elements_by_class_name(\"eLAPa\")\n",
    "    #get post url\n",
    "    url_ele = driver.find_elements_by_css_selector(\".v1Nh3.kIKUG._bz0w a\")\n",
    "\n",
    "    ele_arr['lc_ele'].extend(post_ele)\n",
    "    ele_arr['url_ele'].extend(url_ele)\n",
    "\n",
    "    for lc,u in zip(ele_arr['lc_ele'],ele_arr['url_ele']):\n",
    "        #likes and comments\n",
    "        hover = ActionChains(driver).move_to_element(lc)\n",
    "        hover.perform()\n",
    "        result['l_c'].append(lrv_counter())\n",
    "        #url\n",
    "        result['url'].append(u.get_attribute('href'))\n",
    "\n",
    "    for i in range(scroll_times):\n",
    "        driver.execute_script(\"window.scrollTo(0, document.body.scrollHeight);\")\n",
    "        time.sleep(3)\n",
    "        #likes and comments\n",
    "        post_ele = driver.find_elements_by_class_name(\"eLAPa\")\n",
    "        new_post_ele = [x for x in post_ele if x not in ele_arr['lc_ele']]\n",
    "        ele_arr['lc_ele'].extend(new_post_ele)\n",
    "        #url\n",
    "        url_ele = driver.find_elements_by_css_selector(\".v1Nh3.kIKUG._bz0w a\")\n",
    "        new_url_ele = [x for x in url_ele if x not in ele_arr['url_ele']]\n",
    "        ele_arr['url_ele'].extend(new_url_ele)\n",
    "\n",
    "        post_len.append(len(ele_arr['lc_ele']))\n",
    "        print(post_len[-1],end=',')\n",
    "\n",
    "        for lc,u in zip(new_post_ele,new_url_ele):\n",
    "            #likes and comments\n",
    "            hover = ActionChains(driver).move_to_element(lc)\n",
    "            hover.perform()\n",
    "            result['l_c'].append(lrv_counter())\n",
    "            #url\n",
    "            result['url'].append(u.get_attribute('href'))\n",
    "\n",
    "        if post_len[i+2] == post_len[i]:\n",
    "            break\n",
    "    print('done')\n",
    "    return result"
   ]
  },
  {
   "cell_type": "code",
   "execution_count": 13,
   "metadata": {},
   "outputs": [],
   "source": [
    "#每則貼文\n",
    "def get_post_link(scroll_times):\n",
    "    post_len = [0,0]\n",
    "\n",
    "    ele_arr = []\n",
    "    result = []\n",
    "\n",
    "    #get post like & comments\n",
    "    post_ele = driver.find_elements_by_class_name(\"eLAPa\")\n",
    "    #get post url\n",
    "    url_ele = driver.find_elements_by_css_selector(\".v1Nh3.kIKUG._bz0w a\")\n",
    "\n",
    "#     ele_arr['lc_ele'].extend(post_ele)\n",
    "    ele_arr.extend(url_ele)\n",
    "\n",
    "    for u in ele_arr:\n",
    "        #likes and comments\n",
    "#         hover = ActionChains(driver).move_to_element(lc)\n",
    "#         hover.perform()\n",
    "#         result['l_c'].append(lrv_counter())\n",
    "        #url\n",
    "        result.append(u.get_attribute('href'))\n",
    "\n",
    "    for i in range(scroll_times):\n",
    "        driver.execute_script(\"window.scrollTo(0, document.body.scrollHeight);\")\n",
    "        time.sleep(3)\n",
    "        #likes and comments\n",
    "#         post_ele = driver.find_elements_by_class_name(\"eLAPa\")\n",
    "#         new_post_ele = [x for x in post_ele if x not in ele_arr['lc_ele']]\n",
    "#         ele_arr['lc_ele'].extend(new_post_ele)\n",
    "        #url\n",
    "        url_ele = driver.find_elements_by_css_selector(\".v1Nh3.kIKUG._bz0w a\")\n",
    "        new_url_ele = [x for x in url_ele if x not in ele_arr]\n",
    "        ele_arr.extend(new_url_ele)\n",
    "\n",
    "        post_len.append(len(ele_arr))\n",
    "        print(post_len[-1],end=',')\n",
    "\n",
    "        for u in new_url_ele:\n",
    "            #likes and comments\n",
    "#             hover = ActionChains(driver).move_to_element(lc)\n",
    "#             hover.perform()\n",
    "#             result['l_c'].append(lrv_counter())\n",
    "            #url\n",
    "            result.append(u.get_attribute('href'))\n",
    "\n",
    "        if post_len[i+2] == post_len[i]:\n",
    "            break\n",
    "    print('done')\n",
    "    return result"
   ]
  },
  {
   "cell_type": "code",
   "execution_count": 25,
   "metadata": {},
   "outputs": [],
   "source": [
    "def getPostcontent(link_list):\n",
    "    post_content = []\n",
    "    for l in link_list:\n",
    "        driver.get(l)\n",
    "        post_content.append(driver.find_elements_by_css_selector('.C4VMK span')[1].text)\n",
    "    return(post_content)"
   ]
  },
  {
   "cell_type": "code",
   "execution_count": 154,
   "metadata": {},
   "outputs": [],
   "source": [
    "driver.get('https://www.instagram.com/4foodie/')"
   ]
  },
  {
   "cell_type": "code",
   "execution_count": 155,
   "metadata": {},
   "outputs": [
    {
     "name": "stdout",
     "output_type": "stream",
     "text": [
      "36,48,60,60,72,84,96,108,120,132,144,156,168,180,192,204,216,228,240,252,264,276,288,300,312,324,336,348,360,372,384,396,408,420,432,444,456,468,480,492,504,516,528,540,552,564,576,588,600,612,done\n"
     ]
    }
   ],
   "source": [
    "result = get_post_link(50)"
   ]
  },
  {
   "cell_type": "code",
   "execution_count": 156,
   "metadata": {},
   "outputs": [],
   "source": [
    "link_list = result"
   ]
  },
  {
   "cell_type": "code",
   "execution_count": 158,
   "metadata": {},
   "outputs": [],
   "source": [
    "list1 = link_list[:150]\n",
    "list2 = link_list[150:300]\n",
    "list3 = link_list[300:450]\n",
    "list4 = link_list[450:]"
   ]
  },
  {
   "cell_type": "code",
   "execution_count": 162,
   "metadata": {},
   "outputs": [],
   "source": [
    "result1 = getPostcontent(list1)\n",
    "result2 = getPostcontent(list2)\n",
    "result3 = getPostcontent(list3)\n",
    "result4 = getPostcontent(list4)"
   ]
  },
  {
   "cell_type": "code",
   "execution_count": 172,
   "metadata": {},
   "outputs": [],
   "source": [
    "post_result = result1+result2+result3+result4"
   ]
  },
  {
   "cell_type": "code",
   "execution_count": 173,
   "metadata": {},
   "outputs": [
    {
     "data": {
      "text/plain": [
       "612"
      ]
     },
     "execution_count": 173,
     "metadata": {},
     "output_type": "execute_result"
    }
   ],
   "source": [
    "len(post_result)"
   ]
  },
  {
   "cell_type": "code",
   "execution_count": 23,
   "metadata": {},
   "outputs": [],
   "source": [
    "mrt_list = ['動物園','木柵','萬芳社區','萬芳醫院','辛亥','麟光','六張犁','科技大樓','大安','忠孝復興','南京復興','中山國中','松山機場','大直','劍南路','西湖','港墘','文德','內湖','大湖公園','葫洲','東湖','南港軟體園區','南港展覽館','象山','台北101/世貿','信義安和','大安','大安森林公園','東門','中正紀念堂','台大醫院','台北車站','中山','雙連','民權西路','圓山','劍潭','士林','芝山','明德','石牌','唭哩岸','奇岩','北投','新北投','復興崗','忠義','關渡','竹圍','紅樹林','淡水','新店','新店區公所','七張','小碧潭','大坪林','景美','萬隆','公館','台電大樓','古亭','中正紀念堂','小南門','西門','北門','中山','松江南京','南京復興','台北小巨蛋','南京三民','松山','南勢角','景安','永安市場','頂溪','古亭','東門','忠孝新生','松江南京','行天宮','中山國小','民權西路','大橋頭','台北橋','菜寮','三重','先嗇宮','頭前庄','新莊','輔大','丹鳳','迴龍','三重國小','三和國中','徐匯中學','三民高中','蘆洲','頂埔','永寧','土城','海山','亞東醫院','府中','板橋','新埔','江子翠','龍山寺','西門','台北車站','善導寺','忠孝新生','忠孝復興','忠孝敦化','國父紀念館','市政府','永春','後山埤','昆陽','南港','南港展覽館,']"
   ]
  },
  {
   "cell_type": "code",
   "execution_count": 175,
   "metadata": {},
   "outputs": [],
   "source": [
    "content_list = post_result"
   ]
  },
  {
   "cell_type": "code",
   "execution_count": 176,
   "metadata": {},
   "outputs": [],
   "source": [
    "final = []\n",
    "for c in content_list:\n",
    "    res = []\n",
    "    for m in mrt_list: \n",
    "        se = re.search(m,c)\n",
    "        if se:\n",
    "            res.append(se.group())\n",
    "#     print(res)\n",
    "    final.append(set(res))"
   ]
  },
  {
   "cell_type": "code",
   "execution_count": 182,
   "metadata": {},
   "outputs": [
    {
     "data": {
      "text/html": [
       "<div>\n",
       "<style scoped>\n",
       "    .dataframe tbody tr th:only-of-type {\n",
       "        vertical-align: middle;\n",
       "    }\n",
       "\n",
       "    .dataframe tbody tr th {\n",
       "        vertical-align: top;\n",
       "    }\n",
       "\n",
       "    .dataframe thead th {\n",
       "        text-align: right;\n",
       "    }\n",
       "</style>\n",
       "<table border=\"1\" class=\"dataframe\">\n",
       "  <thead>\n",
       "    <tr style=\"text-align: right;\">\n",
       "      <th></th>\n",
       "      <th>post_link</th>\n",
       "      <th>content</th>\n",
       "      <th>mrt_tags</th>\n",
       "    </tr>\n",
       "  </thead>\n",
       "  <tbody>\n",
       "    <tr>\n",
       "      <td>0</td>\n",
       "      <td>https://www.instagram.com/p/CIpza7-sgUD/</td>\n",
       "      <td>📍Taipei, Taiwan\\n藏壽司 @kurasushi.tw / 以盤計價\\n美味程...</td>\n",
       "      <td>{台北車站}</td>\n",
       "    </tr>\n",
       "    <tr>\n",
       "      <td>1</td>\n",
       "      <td>https://www.instagram.com/p/CImvZr-sM00/</td>\n",
       "      <td>📍Taipei, Taiwan\\n點冰室/ 以下餐點及價位\\n草莓生乳三明治 $140\\n美...</td>\n",
       "      <td>{中山}</td>\n",
       "    </tr>\n",
       "    <tr>\n",
       "      <td>2</td>\n",
       "      <td>https://www.instagram.com/p/CIkqNr2sc0P/</td>\n",
       "      <td>📍Taipei, Taiwan\\n施福建好吃雞肉 / 雞油飯 雞肉切盤 / $10 $150...</td>\n",
       "      <td>{西門}</td>\n",
       "    </tr>\n",
       "    <tr>\n",
       "      <td>3</td>\n",
       "      <td>https://www.instagram.com/p/CIZuD_JMcH7/</td>\n",
       "      <td>📍Taipei, Taiwan\\n廣州街夜市香脆蚵仔煎 / 蚵仔煎 / $70\\n美味程度：...</td>\n",
       "      <td>{龍山寺}</td>\n",
       "    </tr>\n",
       "    <tr>\n",
       "      <td>4</td>\n",
       "      <td>https://www.instagram.com/p/CIXy6WQsmOF/</td>\n",
       "      <td>📍️Taipei, Taiwan\\n台北萬豪酒店 宴客樓 / 以下餐點及價位\\n全台冠軍烤鴨...</td>\n",
       "      <td>{中山, 三重, 大直, 劍南路}</td>\n",
       "    </tr>\n",
       "    <tr>\n",
       "      <td>...</td>\n",
       "      <td>...</td>\n",
       "      <td>...</td>\n",
       "      <td>...</td>\n",
       "    </tr>\n",
       "    <tr>\n",
       "      <td>607</td>\n",
       "      <td>https://www.instagram.com/p/Bsz__BHH6q-/</td>\n",
       "      <td>📍Changhua, Taiwan\\n魚滿堂排骨酥麵 / 排骨酥麵 / $80\\n美味程度：...</td>\n",
       "      <td>{}</td>\n",
       "    </tr>\n",
       "    <tr>\n",
       "      <td>608</td>\n",
       "      <td>https://www.instagram.com/p/BsznW2inSDj/</td>\n",
       "      <td>📍Los Angeles, California\\nRossoblu / 以下菜名及價位\\n...</td>\n",
       "      <td>{}</td>\n",
       "    </tr>\n",
       "    <tr>\n",
       "      <td>609</td>\n",
       "      <td>https://www.instagram.com/p/Bsw9kZHnWg0/</td>\n",
       "      <td>感謝 @yen.food.life 的分享🙏🏻\\n🔹標記 #4foodieforfoodie...</td>\n",
       "      <td>{士林, 劍潭}</td>\n",
       "    </tr>\n",
       "    <tr>\n",
       "      <td>610</td>\n",
       "      <td>https://www.instagram.com/p/BsvCUxUnYnG/</td>\n",
       "      <td>📍️Tokyo, Japan\\nTsunami Ebisu TOKYO / タコライスプレー...</td>\n",
       "      <td>{}</td>\n",
       "    </tr>\n",
       "    <tr>\n",
       "      <td>611</td>\n",
       "      <td>https://www.instagram.com/p/Bssh9OrnbTh/</td>\n",
       "      <td>📍Taipei, Taiwan\\nOmbré / 以下菜名及價位\\n煎烤沙朗牛排 $420\\...</td>\n",
       "      <td>{大安, 科技大樓}</td>\n",
       "    </tr>\n",
       "  </tbody>\n",
       "</table>\n",
       "<p>612 rows × 3 columns</p>\n",
       "</div>"
      ],
      "text/plain": [
       "                                    post_link  \\\n",
       "0    https://www.instagram.com/p/CIpza7-sgUD/   \n",
       "1    https://www.instagram.com/p/CImvZr-sM00/   \n",
       "2    https://www.instagram.com/p/CIkqNr2sc0P/   \n",
       "3    https://www.instagram.com/p/CIZuD_JMcH7/   \n",
       "4    https://www.instagram.com/p/CIXy6WQsmOF/   \n",
       "..                                        ...   \n",
       "607  https://www.instagram.com/p/Bsz__BHH6q-/   \n",
       "608  https://www.instagram.com/p/BsznW2inSDj/   \n",
       "609  https://www.instagram.com/p/Bsw9kZHnWg0/   \n",
       "610  https://www.instagram.com/p/BsvCUxUnYnG/   \n",
       "611  https://www.instagram.com/p/Bssh9OrnbTh/   \n",
       "\n",
       "                                               content           mrt_tags  \n",
       "0    📍Taipei, Taiwan\\n藏壽司 @kurasushi.tw / 以盤計價\\n美味程...             {台北車站}  \n",
       "1    📍Taipei, Taiwan\\n點冰室/ 以下餐點及價位\\n草莓生乳三明治 $140\\n美...               {中山}  \n",
       "2    📍Taipei, Taiwan\\n施福建好吃雞肉 / 雞油飯 雞肉切盤 / $10 $150...               {西門}  \n",
       "3    📍Taipei, Taiwan\\n廣州街夜市香脆蚵仔煎 / 蚵仔煎 / $70\\n美味程度：...              {龍山寺}  \n",
       "4    📍️Taipei, Taiwan\\n台北萬豪酒店 宴客樓 / 以下餐點及價位\\n全台冠軍烤鴨...  {中山, 三重, 大直, 劍南路}  \n",
       "..                                                 ...                ...  \n",
       "607  📍Changhua, Taiwan\\n魚滿堂排骨酥麵 / 排骨酥麵 / $80\\n美味程度：...                 {}  \n",
       "608  📍Los Angeles, California\\nRossoblu / 以下菜名及價位\\n...                 {}  \n",
       "609  感謝 @yen.food.life 的分享🙏🏻\\n🔹標記 #4foodieforfoodie...           {士林, 劍潭}  \n",
       "610  📍️Tokyo, Japan\\nTsunami Ebisu TOKYO / タコライスプレー...                 {}  \n",
       "611  📍Taipei, Taiwan\\nOmbré / 以下菜名及價位\\n煎烤沙朗牛排 $420\\...         {大安, 科技大樓}  \n",
       "\n",
       "[612 rows x 3 columns]"
      ]
     },
     "execution_count": 182,
     "metadata": {},
     "output_type": "execute_result"
    }
   ],
   "source": [
    "foodie_df = pd.DataFrame()\n",
    "foodie_df['post_link'] = link_list\n",
    "foodie_df['content'] = content_list\n",
    "foodie_df['mrt_tags'] = final\n",
    "foodie_df"
   ]
  },
  {
   "cell_type": "code",
   "execution_count": 183,
   "metadata": {},
   "outputs": [],
   "source": [
    "for i in range(len(foodie_df['mrt_tags'])):\n",
    "    string = ''\n",
    "#     print(foodie_df['mrt_tags'][i])\n",
    "    c = 0\n",
    "    for t in foodie_df['mrt_tags'][i]:  \n",
    "        if c == 0:\n",
    "            string += t\n",
    "        else : string += ',' + t \n",
    "        c+=1\n",
    "    foodie_df['mrt_tags'][i] = string"
   ]
  },
  {
   "cell_type": "code",
   "execution_count": 185,
   "metadata": {},
   "outputs": [],
   "source": [
    "foodie_df.to_csv('./data/4foodie.csv',encoding = 'utf-8-sig')"
   ]
  },
  {
   "cell_type": "code",
   "execution_count": null,
   "metadata": {},
   "outputs": [],
   "source": [
    "#driver.close()"
   ]
  }
 ],
 "metadata": {
  "kernelspec": {
   "display_name": "Python 3",
   "language": "python",
   "name": "python3"
  },
  "language_info": {
   "codemirror_mode": {
    "name": "ipython",
    "version": 3
   },
   "file_extension": ".py",
   "mimetype": "text/x-python",
   "name": "python",
   "nbconvert_exporter": "python",
   "pygments_lexer": "ipython3",
   "version": "3.7.4"
  }
 },
 "nbformat": 4,
 "nbformat_minor": 2
}
